{
 "cells": [
  {
   "cell_type": "code",
   "execution_count": 2,
   "metadata": {},
   "outputs": [],
   "source": [
    "from pyspark.sql import SparkSession"
   ]
  },
  {
   "cell_type": "code",
   "execution_count": 3,
   "metadata": {},
   "outputs": [],
   "source": [
    "from pyspark.sql.functions import isnull , when ,count,col"
   ]
  },
  {
   "cell_type": "code",
   "execution_count": 4,
   "metadata": {},
   "outputs": [],
   "source": [
    "spark = SparkSession.builder.appName(\"Cred_crd_frud_det\").getOrCreate()"
   ]
  },
  {
   "cell_type": "code",
   "execution_count": 5,
   "metadata": {},
   "outputs": [],
   "source": [
    "df_card_transdata = spark.read.csv(\"./card_transdata.csv\", inferSchema= True, header = True)"
   ]
  },
  {
   "cell_type": "code",
   "execution_count": 6,
   "metadata": {},
   "outputs": [
    {
     "name": "stdout",
     "output_type": "stream",
     "text": [
      "root\n",
      " |-- distance_from_home: double (nullable = true)\n",
      " |-- distance_from_last_transaction: double (nullable = true)\n",
      " |-- ratio_to_median_purchase_price: double (nullable = true)\n",
      " |-- repeat_retailer: double (nullable = true)\n",
      " |-- used_chip: double (nullable = true)\n",
      " |-- used_pin_number: double (nullable = true)\n",
      " |-- online_order: double (nullable = true)\n",
      " |-- fraud: double (nullable = true)\n",
      "\n"
     ]
    }
   ],
   "source": [
    "df_card_transdata.printSchema()"
   ]
  },
  {
   "cell_type": "code",
   "execution_count": 7,
   "metadata": {},
   "outputs": [
    {
     "name": "stdout",
     "output_type": "stream",
     "text": [
      "+------------------+------------------------------+------------------------------+---------------+---------+---------------+------------+-----+\n",
      "|distance_from_home|distance_from_last_transaction|ratio_to_median_purchase_price|repeat_retailer|used_chip|used_pin_number|online_order|fraud|\n",
      "+------------------+------------------------------+------------------------------+---------------+---------+---------------+------------+-----+\n",
      "| 57.87785658389723|            0.3111400080477545|            1.9459399775518593|            1.0|      1.0|            0.0|         0.0|  0.0|\n",
      "|10.829942699255545|           0.17559150228166587|            1.2942188106198573|            1.0|      0.0|            0.0|         0.0|  0.0|\n",
      "| 5.091079490616996|            0.8051525945853258|           0.42771456119427587|            1.0|      0.0|            0.0|         1.0|  0.0|\n",
      "|2.2475643282963613|              5.60004354707232|           0.36266257805709584|            1.0|      1.0|            0.0|         1.0|  0.0|\n",
      "| 44.19093600261837|            0.5664862680583477|            2.2227672978404707|            1.0|      1.0|            0.0|         1.0|  0.0|\n",
      "| 5.586407674186407|            13.261073268058121|           0.06476846537046335|            1.0|      0.0|            0.0|         0.0|  0.0|\n",
      "|3.7240191247148107|            0.9568379284821842|           0.27846494490815554|            1.0|      0.0|            0.0|         1.0|  0.0|\n",
      "|4.8482465722805665|            0.3207354272228163|            1.2730495235601782|            1.0|      0.0|            1.0|         0.0|  0.0|\n",
      "|0.8766322564943629|            2.5036089266921437|            1.5169993152858177|            0.0|      0.0|            0.0|         0.0|  0.0|\n",
      "|  8.83904670372637|            2.9705122760243827|              2.36168254706846|            1.0|      0.0|            0.0|         1.0|  0.0|\n",
      "+------------------+------------------------------+------------------------------+---------------+---------+---------------+------------+-----+\n",
      "only showing top 10 rows\n",
      "\n"
     ]
    }
   ],
   "source": [
    "df_card_transdata.show(10)"
   ]
  },
  {
   "cell_type": "code",
   "execution_count": 8,
   "metadata": {},
   "outputs": [
    {
     "name": "stdout",
     "output_type": "stream",
     "text": [
      "0:  912597\n",
      "1:  87403\n"
     ]
    }
   ],
   "source": [
    "print(\"0: \",df_card_transdata.filter(col('fraud')== 0).count())\n",
    "print(\"1: \",df_card_transdata.filter(col('fraud')== 1).count())"
   ]
  },
  {
   "cell_type": "markdown",
   "metadata": {},
   "source": [
    "# DATA Prepartion Und Feature Engineering"
   ]
  },
  {
   "cell_type": "code",
   "execution_count": 9,
   "metadata": {},
   "outputs": [
    {
     "name": "stdout",
     "output_type": "stream",
     "text": [
      "+------------------+------------------------------+------------------------------+---------------+---------+---------------+------------+-----+\n",
      "|distance_from_home|distance_from_last_transaction|ratio_to_median_purchase_price|repeat_retailer|used_chip|used_pin_number|online_order|fraud|\n",
      "+------------------+------------------------------+------------------------------+---------------+---------+---------------+------------+-----+\n",
      "|                 0|                             0|                             0|              0|        0|              0|           0|    0|\n",
      "+------------------+------------------------------+------------------------------+---------------+---------+---------------+------------+-----+\n",
      "\n"
     ]
    }
   ],
   "source": [
    "# see if we have missing values\n",
    "from ipaddress import collapse_addresses\n",
    "from pyspark.sql.functions import isnull , when ,count,col\n",
    "df_card_transdata.select([count(when(isnull(c),c)).alias(c) for c in df_card_transdata.columns]).show()"
   ]
  },
  {
   "cell_type": "code",
   "execution_count": 10,
   "metadata": {},
   "outputs": [],
   "source": [
    "import seaborn as sms"
   ]
  },
  {
   "cell_type": "code",
   "execution_count": 11,
   "metadata": {},
   "outputs": [
    {
     "data": {
      "text/plain": [
       "<AxesSubplot:>"
      ]
     },
     "execution_count": 11,
     "metadata": {},
     "output_type": "execute_result"
    },
    {
     "data": {
      "image/png": "[encoded data removed]",
      "text/plain": [
       "<Figure size 432x288 with 2 Axes>"
      ]
     },
     "metadata": {
      "needs_background": "light"
     },
     "output_type": "display_data"
    }
   ],
   "source": [
    "sms.heatmap(df_card_transdata.toPandas().corr() , annot = True)"
   ]
  },
  {
   "cell_type": "code",
   "execution_count": 12,
   "metadata": {},
   "outputs": [],
   "source": [
    "from pyspark.ml.feature import VectorAssembler\n"
   ]
  },
  {
   "cell_type": "code",
   "execution_count": 13,
   "metadata": {},
   "outputs": [],
   "source": [
    "df_card_transdata_without_lables = df_card_transdata.drop('fraud')"
   ]
  },
  {
   "cell_type": "markdown",
   "metadata": {},
   "source": [
    "# Assemble All the features with VectorAssembler"
   ]
  },
  {
   "cell_type": "code",
   "execution_count": 14,
   "metadata": {},
   "outputs": [
    {
     "name": "stdout",
     "output_type": "stream",
     "text": [
      "+--------------------+\n",
      "|            features|\n",
      "+--------------------+\n",
      "|[57.8778565838972...|\n",
      "|[10.8299426992555...|\n",
      "|[5.09107949061699...|\n",
      "|[2.24756432829636...|\n",
      "|[44.1909360026183...|\n",
      "|[5.58640767418640...|\n",
      "|[3.72401912471481...|\n",
      "|[4.84824657228056...|\n",
      "|(7,[0,1,2],[0.876...|\n",
      "|[8.83904670372637...|\n",
      "|[14.2635297350690...|\n",
      "|[13.5923675679096...|\n",
      "|[765.282559261246...|\n",
      "|[2.13195566599056...|\n",
      "|[13.9559723670444...|\n",
      "|[179.665147685707...|\n",
      "|[114.519789391612...|\n",
      "|[3.58964859762134...|\n",
      "|[11.0851524840576...|\n",
      "|[6.19467076632605...|\n",
      "+--------------------+\n",
      "only showing top 20 rows\n",
      "\n"
     ]
    }
   ],
   "source": [
    "from pyexpat import features\n",
    "\n",
    "\n",
    "assembler = VectorAssembler(inputCols= df_card_transdata_without_lables.columns, outputCol=\"features\")\n",
    "transformed_data = assembler.transform(df_card_transdata)\n",
    "transformed_data.select(col('features')).show()"
   ]
  },
  {
   "cell_type": "markdown",
   "metadata": {},
   "source": [
    "# Machine Learning Data Modal"
   ]
  },
  {
   "cell_type": "code",
   "execution_count": 15,
   "metadata": {},
   "outputs": [],
   "source": [
    "(X_train, X_test) = transformed_data.randomSplit([0.7,0.3])"
   ]
  },
  {
   "cell_type": "markdown",
   "metadata": {},
   "source": [
    "# Classifier"
   ]
  },
  {
   "cell_type": "code",
   "execution_count": 16,
   "metadata": {},
   "outputs": [],
   "source": [
    "from pyspark.ml.classification import DecisionTreeClassifier,LogisticRegression, RandomForestClassifier\n",
    "\n",
    "clf_Des_tree = DecisionTreeClassifier(featuresCol='features', labelCol='fraud', maxDepth= 3, maxMemoryInMB=10000)\n",
    "clf_logical_reg = LogisticRegression(featuresCol='features', labelCol='fraud')\n",
    "clf_rand_frst = RandomForestClassifier(featuresCol='features', labelCol='fraud')"
   ]
  },
  {
   "cell_type": "code",
   "execution_count": 17,
   "metadata": {},
   "outputs": [],
   "source": [
    "model_des_tree = clf_Des_tree.fit(X_train)"
   ]
  },
  {
   "cell_type": "code",
   "execution_count": 18,
   "metadata": {},
   "outputs": [],
   "source": [
    "model_logistion_reg = clf_logical_reg.fit(X_train)"
   ]
  },
  {
   "cell_type": "code",
   "execution_count": 19,
   "metadata": {},
   "outputs": [],
   "source": [
    "model_rand_frst = clf_rand_frst.fit(X_train)"
   ]
  },
  {
   "cell_type": "code",
   "execution_count": 20,
   "metadata": {},
   "outputs": [
    {
     "name": "stdout",
     "output_type": "stream",
     "text": [
      "root\n",
      " |-- distance_from_home: double (nullable = true)\n",
      " |-- distance_from_last_transaction: double (nullable = true)\n",
      " |-- ratio_to_median_purchase_price: double (nullable = true)\n",
      " |-- repeat_retailer: double (nullable = true)\n",
      " |-- used_chip: double (nullable = true)\n",
      " |-- used_pin_number: double (nullable = true)\n",
      " |-- online_order: double (nullable = true)\n",
      " |-- fraud: double (nullable = true)\n",
      "\n"
     ]
    }
   ],
   "source": [
    "df_card_transdata.printSchema()"
   ]
  },
  {
   "cell_type": "markdown",
   "metadata": {},
   "source": [
    "# Predictions "
   ]
  },
  {
   "cell_type": "markdown",
   "metadata": {},
   "source": [
    "decision Tree"
   ]
  },
  {
   "cell_type": "code",
   "execution_count": 21,
   "metadata": {},
   "outputs": [
    {
     "name": "stdout",
     "output_type": "stream",
     "text": [
      "+-----+----------+\n",
      "|fraud|prediction|\n",
      "+-----+----------+\n",
      "|  0.0|       0.0|\n",
      "|  0.0|       0.0|\n",
      "|  0.0|       0.0|\n",
      "|  0.0|       0.0|\n",
      "|  0.0|       0.0|\n",
      "+-----+----------+\n",
      "only showing top 5 rows\n",
      "\n"
     ]
    }
   ],
   "source": [
    "prediction_des_tree = model_des_tree.transform(X_test)\n",
    "\n",
    "prediction_des_tree.select(\"fraud\",'prediction').show(5)"
   ]
  },
  {
   "cell_type": "markdown",
   "metadata": {},
   "source": [
    "Logistic Regression"
   ]
  },
  {
   "cell_type": "code",
   "execution_count": 22,
   "metadata": {},
   "outputs": [
    {
     "name": "stdout",
     "output_type": "stream",
     "text": [
      "+-----+----------+\n",
      "|fraud|prediction|\n",
      "+-----+----------+\n",
      "|  0.0|       0.0|\n",
      "|  0.0|       0.0|\n",
      "|  0.0|       0.0|\n",
      "|  0.0|       0.0|\n",
      "|  0.0|       0.0|\n",
      "+-----+----------+\n",
      "only showing top 5 rows\n",
      "\n"
     ]
    }
   ],
   "source": [
    "prediction_logical_reg = model_logistion_reg.transform(X_test)\n",
    "\n",
    "prediction_logical_reg.select(\"fraud\",'prediction').show(5)"
   ]
  },
  {
   "cell_type": "markdown",
   "metadata": {},
   "source": [
    "Random Forest"
   ]
  },
  {
   "cell_type": "code",
   "execution_count": 23,
   "metadata": {},
   "outputs": [
    {
     "name": "stdout",
     "output_type": "stream",
     "text": [
      "+-----+----------+\n",
      "|fraud|prediction|\n",
      "+-----+----------+\n",
      "|  0.0|       0.0|\n",
      "|  0.0|       0.0|\n",
      "|  0.0|       0.0|\n",
      "|  0.0|       0.0|\n",
      "|  0.0|       0.0|\n",
      "+-----+----------+\n",
      "only showing top 5 rows\n",
      "\n"
     ]
    }
   ],
   "source": [
    "prediction_rand_frst = model_rand_frst.transform(X_test)\n",
    "\n",
    "prediction_rand_frst.select(\"fraud\",'prediction').show(5)"
   ]
  },
  {
   "cell_type": "code",
   "execution_count": 24,
   "metadata": {},
   "outputs": [
    {
     "name": "stdout",
     "output_type": "stream",
     "text": [
      "decision Tree\n",
      "+-----+----------+------+\n",
      "|fraud|prediction| count|\n",
      "+-----+----------+------+\n",
      "|  1.0|       1.0| 23072|\n",
      "|  0.0|       1.0|  4379|\n",
      "|  1.0|       0.0|  2934|\n",
      "|  0.0|       0.0|269340|\n",
      "+-----+----------+------+\n",
      "\n",
      "Logistic Regression\n",
      "+-----+----------+------+\n",
      "|fraud|prediction| count|\n",
      "+-----+----------+------+\n",
      "|  1.0|       1.0| 15464|\n",
      "|  0.0|       1.0|  1828|\n",
      "|  1.0|       0.0| 10542|\n",
      "|  0.0|       0.0|271891|\n",
      "+-----+----------+------+\n",
      "\n",
      "Random Forest\n",
      "+-----+----------+------+\n",
      "|fraud|prediction| count|\n",
      "+-----+----------+------+\n",
      "|  1.0|       1.0| 22979|\n",
      "|  0.0|       1.0|  1726|\n",
      "|  1.0|       0.0|  3027|\n",
      "|  0.0|       0.0|271993|\n",
      "+-----+----------+------+\n",
      "\n"
     ]
    }
   ],
   "source": [
    "print(\"decision Tree\")\n",
    "prediction_des_tree.groupBy('fraud','prediction').count().show()\n",
    "print(\"Logistic Regression\")\n",
    "prediction_logical_reg.groupBy('fraud','prediction').count().show()\n",
    "print(\"Random Forest\")\n",
    "prediction_rand_frst.groupBy('fraud','prediction').count().show()\n",
    "# if the label is 0 and the prediction is 1 then the model has gotit wrong\n",
    "# if the label is 1 and the prediction is 0 then the model has gotit wrong\n",
    "# if the label is 0 and the prediction is 0 then the model has gotit right\n",
    "# if the label is 1 and the prediction is 1 then the model has gotit right"
   ]
  },
  {
   "cell_type": "markdown",
   "metadata": {},
   "source": [
    "# Parameters for confusion Metrix"
   ]
  },
  {
   "cell_type": "code",
   "execution_count": 25,
   "metadata": {},
   "outputs": [],
   "source": [
    "# Calculare the elements of thr confusion matrix\n",
    "\n",
    "TN_DT = prediction_des_tree.filter('prediction = 0 AND fraud = prediction').count()\n",
    "TP_DT = prediction_des_tree.filter('prediction = 1 AND fraud = prediction').count()\n",
    "FN_DT = prediction_des_tree.filter('prediction = 0 AND fraud <> prediction').count()\n",
    "FP_DT = prediction_des_tree.filter('prediction = 1 AND fraud <> prediction').count()"
   ]
  },
  {
   "cell_type": "code",
   "execution_count": 26,
   "metadata": {},
   "outputs": [],
   "source": [
    "TN_LR= prediction_logical_reg.filter('prediction = 0 AND fraud = prediction').count()\n",
    "TP_LR= prediction_logical_reg.filter('prediction = 1 AND fraud = prediction').count()\n",
    "FN_LR= prediction_logical_reg.filter('prediction = 0 AND fraud <> prediction').count()\n",
    "FP_LR= prediction_logical_reg.filter('prediction = 1 AND fraud <> prediction').count()"
   ]
  },
  {
   "cell_type": "code",
   "execution_count": 27,
   "metadata": {},
   "outputs": [],
   "source": [
    "TN_RF= prediction_rand_frst.filter('prediction = 0 AND fraud = prediction').count()\n",
    "TP_RF= prediction_rand_frst.filter('prediction = 1 AND fraud = prediction').count()\n",
    "FN_RF= prediction_rand_frst.filter('prediction = 0 AND fraud <> prediction').count()\n",
    "FP_RF= prediction_rand_frst.filter('prediction = 1 AND fraud <> prediction').count()"
   ]
  },
  {
   "cell_type": "markdown",
   "metadata": {},
   "source": [
    "# Calculate confusion Metrix"
   ]
  },
  {
   "cell_type": "code",
   "execution_count": 28,
   "metadata": {},
   "outputs": [
    {
     "name": "stdout",
     "output_type": "stream",
     "text": [
      "Decision Tree accuracy:  97.56009675535908\n",
      "Decision Tree precision:  84.04793996575717\n",
      "Decision Tree recall:  88.71798815657925\n"
     ]
    }
   ],
   "source": [
    "# calculate accuracy , precision , recall and F1- Score\n",
    "\n",
    "accuracy_DT = (TN_DT +TP_DT) / (TN_DT +TP_DT+ FN_DT +FP_DT)\n",
    "precision_DT = TP_DT / (TP_DT +FP_DT)\n",
    "recall_DT = TP_DT / (TP_DT + FN_DT)\n",
    "print(\"Decision Tree accuracy: \",  accuracy_DT*100)\n",
    "print(\"Decision Tree precision: \",  precision_DT*100)\n",
    "print(\"Decision Tree recall: \",  recall_DT*100)"
   ]
  },
  {
   "cell_type": "code",
   "execution_count": 29,
   "metadata": {},
   "outputs": [
    {
     "name": "stdout",
     "output_type": "stream",
     "text": [
      "Logistic Regression accuracy:  95.87288347652014\n",
      "Logistic Regression precision:  89.42863752024057\n",
      "Logistic Regression recall:  59.46320079981543\n"
     ]
    }
   ],
   "source": [
    "# calculate accuracy , precision , recall and F1- Score\n",
    "\n",
    "accuracy_LR = (TN_LR +TP_LR) / (TN_LR +TP_LR + FN_LR +FP_LR)\n",
    "precision_LR = TP_LR / (TP_LR +FP_LR)\n",
    "recall_LR = TP_LR / (TP_LR + FN_LR)\n",
    "print(\"Logistic Regression accuracy: \",  accuracy_LR*100)\n",
    "print(\"Logistic Regression precision: \",  precision_LR*100)\n",
    "print(\"Logistic Regression recall: \",  recall_LR*100)"
   ]
  },
  {
   "cell_type": "code",
   "execution_count": 30,
   "metadata": {},
   "outputs": [
    {
     "name": "stdout",
     "output_type": "stream",
     "text": [
      "Random Forest accuracy:  98.41421302860955\n",
      "Random Forest precision:  93.01356000809552\n",
      "Random Forest recall:  88.36037837422134\n"
     ]
    }
   ],
   "source": [
    "# calculate accuracy , precision , recall and F1- Score\n",
    "\n",
    "accuracy_RF = (TN_RF +TP_RF) / (TN_RF +TP_RF + FN_RF +FP_RF)\n",
    "precision_RF = TP_RF / (TP_RF +FP_RF)\n",
    "recall_RF = TP_RF / (TP_RF + FN_RF)\n",
    "print(\"Random Forest accuracy: \",  accuracy_RF*100)\n",
    "print(\"Random Forest precision: \",  precision_RF*100)\n",
    "print(\"Random Forest recall: \",  recall_RF*100)"
   ]
  },
  {
   "cell_type": "code",
   "execution_count": 31,
   "metadata": {},
   "outputs": [],
   "source": [
    "# import sklearn as sk"
   ]
  },
  {
   "cell_type": "code",
   "execution_count": 32,
   "metadata": {},
   "outputs": [],
   "source": [
    "# prediction_des_tree.groupBy('fraud','prediction').count().show()\n",
    "y_true_d = prediction_des_tree.select('fraud').collect()\n",
    "y_Pre_d = prediction_des_tree.select('prediction').collect()"
   ]
  },
  {
   "cell_type": "code",
   "execution_count": 33,
   "metadata": {},
   "outputs": [],
   "source": [
    "# prediction_des_tree.groupBy('fraud','prediction').count().show()\n",
    "y_true_LR = prediction_logical_reg.select('fraud').collect()\n",
    "y_Pre_LR = prediction_logical_reg.select('prediction').collect()"
   ]
  },
  {
   "cell_type": "code",
   "execution_count": 34,
   "metadata": {},
   "outputs": [],
   "source": [
    "# prediction_des_tree.groupBy('fraud','prediction').count().show()\n",
    "y_true_RF = prediction_rand_frst.select('fraud').collect()\n",
    "y_Pre_RF = prediction_rand_frst.select('prediction').collect()"
   ]
  },
  {
   "cell_type": "code",
   "execution_count": 35,
   "metadata": {},
   "outputs": [],
   "source": [
    "from sklearn import metrics"
   ]
  },
  {
   "cell_type": "code",
   "execution_count": 36,
   "metadata": {},
   "outputs": [
    {
     "name": "stdout",
     "output_type": "stream",
     "text": [
      "Confusion Matrix:\n",
      "[[269340   4379]\n",
      " [  2934  23072]]\n"
     ]
    }
   ],
   "source": [
    "cm_d = metrics.confusion_matrix(y_true_d, y_Pre_d)\n",
    "print(\"Confusion Matrix:\")\n",
    "print(cm_d)"
   ]
  },
  {
   "cell_type": "code",
   "execution_count": 37,
   "metadata": {},
   "outputs": [
    {
     "name": "stdout",
     "output_type": "stream",
     "text": [
      "Confusion Matrix:\n",
      "[[271891   1828]\n",
      " [ 10542  15464]]\n"
     ]
    }
   ],
   "source": [
    "cm_LR = metrics.confusion_matrix(y_true_LR, y_Pre_LR)\n",
    "print(\"Confusion Matrix:\")\n",
    "print(cm_LR)"
   ]
  },
  {
   "cell_type": "code",
   "execution_count": 38,
   "metadata": {},
   "outputs": [
    {
     "name": "stdout",
     "output_type": "stream",
     "text": [
      "Confusion Matrix:\n",
      "[[271891   1828]\n",
      " [ 10542  15464]]\n"
     ]
    }
   ],
   "source": [
    "cm_RF = metrics.confusion_matrix(y_true_RF, y_Pre_RF)\n",
    "print(\"Confusion Matrix:\")\n",
    "print(cm_LR)"
   ]
  },
  {
   "cell_type": "code",
   "execution_count": 39,
   "metadata": {},
   "outputs": [],
   "source": [
    "import matplotlib.pyplot as plt"
   ]
  },
  {
   "cell_type": "code",
   "execution_count": 40,
   "metadata": {},
   "outputs": [
    {
     "data": {
      "image/png": "[encoded data removed]",
      "text/plain": [
       "<Figure size 360x360 with 1 Axes>"
      ]
     },
     "metadata": {
      "needs_background": "light"
     },
     "output_type": "display_data"
    }
   ],
   "source": [
    "fig , ax = plt.subplots(figsize=(5,5))\n",
    "ax.imshow(cm_d)\n",
    "ax.grid(False)\n",
    "ax.xaxis.set(ticks=(0,1), ticklabels=('Predicted 0s', 'Predicted 1s'))\n",
    "ax.yaxis.set(ticks=(0,1), ticklabels=('Actual 0s', 'Actual 1s'))\n",
    "for i in range(2):\n",
    "    for j in range(2):\n",
    "        ax.text(j,i,cm_d[i,j], ha='center', va='center', color='red')\n",
    "plt.show()"
   ]
  },
  {
   "cell_type": "code",
   "execution_count": 41,
   "metadata": {},
   "outputs": [
    {
     "data": {
      "image/png": "[encoded data removed]",
      "text/plain": [
       "<Figure size 360x360 with 1 Axes>"
      ]
     },
     "metadata": {
      "needs_background": "light"
     },
     "output_type": "display_data"
    }
   ],
   "source": [
    "fig , ax = plt.subplots(figsize=(5,5))\n",
    "ax.imshow(cm_LR)\n",
    "ax.grid(False)\n",
    "ax.xaxis.set(ticks=(0,1), ticklabels=('Predicted 0s', 'Predicted 1s'))\n",
    "ax.yaxis.set(ticks=(0,1), ticklabels=('Actual 0s', 'Actual 1s'))\n",
    "for i in range(2):\n",
    "    for j in range(2):\n",
    "        ax.text(j,i,cm_LR[i,j], ha='center', va='center', color='red')\n",
    "plt.show()"
   ]
  },
  {
   "cell_type": "code",
   "execution_count": 42,
   "metadata": {},
   "outputs": [
    {
     "data": {
      "image/png": "[encoded data removed]",
      "text/plain": [
       "<Figure size 360x360 with 1 Axes>"
      ]
     },
     "metadata": {
      "needs_background": "light"
     },
     "output_type": "display_data"
    }
   ],
   "source": [
    "fig , ax = plt.subplots(figsize=(5,5))\n",
    "ax.imshow(cm_RF)\n",
    "ax.grid(False)\n",
    "ax.xaxis.set(ticks=(0,1), ticklabels=('Predicted 0s', 'Predicted 1s'))\n",
    "ax.yaxis.set(ticks=(0,1), ticklabels=('Actual 0s', 'Actual 1s'))\n",
    "for i in range(2):\n",
    "    for j in range(2):\n",
    "        ax.text(j,i,cm_RF[i,j], ha='center', va='center', color='red')\n",
    "plt.show()"
   ]
  }
 ],
 "metadata": {
  "kernelspec": {
   "display_name": "Python 3.8.5 ('base')",
   "language": "python",
   "name": "python3"
  },
  "language_info": {
   "codemirror_mode": {
    "name": "ipython",
    "version": 3
   },
   "file_extension": ".py",
   "mimetype": "text/x-python",
   "name": "python",
   "nbconvert_exporter": "python",
   "pygments_lexer": "ipython3",
   "version": "3.8.5"
  },
  "orig_nbformat": 4,
  "vscode": {
   "interpreter": {
    "hash": "30424d9308010dafecca22b5ec9402eef0e44005ea326a16069b35614aa41d25"
   }
  }
 },
 "nbformat": 4,
 "nbformat_minor": 2
}
